{
 "cells": [
  {
   "cell_type": "markdown",
   "metadata": {},
   "source": [
    "# Mystery of the Gold Coins\n",
    "\n",
    "We represent the current knowledge of the coins as a dictionary mapping the coin number (1 - 12) to a set consisting of the possible weights of the coin (1 if it is heavier, or -1 if it is lighter, or simply excluded if we know that the coin is pure). The outcome of weighing two sets of coins refines our knowledge."
   ]
  },
  {
   "cell_type": "code",
   "execution_count": 1,
   "metadata": {
    "collapsed": true
   },
   "outputs": [],
   "source": [
    "def balance(states, left, right, outcome):\n",
    "\tif outcome == 0:\n",
    "\t\treturn {k: v for k, v in states.items() if k not in left and k not in right}\n",
    "\telif outcome == 1:\n",
    "\t\treturn {k: v - {-1} if k in right else v - {1} for k, v in states.items() if k in right and 1 in v or k in left and -1 in v}\n",
    "\telif outcome == -1:\n",
    "\t\treturn {k: v - {1} if k in right else v - {-1} for k, v in states.items() if k in right and -1 in v or k in left and 1 in v}"
   ]
  },
  {
   "cell_type": "markdown",
   "metadata": {},
   "source": [
    "In the initial state, we have no knowledge. Each coin has both possibilities."
   ]
  },
  {
   "cell_type": "code",
   "execution_count": 2,
   "metadata": {
    "collapsed": false
   },
   "outputs": [
    {
     "data": {
      "text/plain": [
       "{1: {-1, 1},\n",
       " 2: {-1, 1},\n",
       " 3: {-1, 1},\n",
       " 4: {-1, 1},\n",
       " 5: {-1, 1},\n",
       " 6: {-1, 1},\n",
       " 7: {-1, 1},\n",
       " 8: {-1, 1},\n",
       " 9: {-1, 1},\n",
       " 10: {-1, 1},\n",
       " 11: {-1, 1},\n",
       " 12: {-1, 1}}"
      ]
     },
     "execution_count": 2,
     "metadata": {},
     "output_type": "execute_result"
    }
   ],
   "source": [
    "initial = {i: {-1, 1} for i in range(1, 13)}; initial"
   ]
  },
  {
   "cell_type": "markdown",
   "metadata": {},
   "source": [
    "We weigh four coins against four other coins. Let's look at the first case: the outcome is balanced."
   ]
  },
  {
   "cell_type": "code",
   "execution_count": 3,
   "metadata": {
    "collapsed": false
   },
   "outputs": [
    {
     "data": {
      "text/plain": [
       "{9: {-1, 1}, 10: {-1, 1}, 11: {-1, 1}, 12: {-1, 1}}"
      ]
     },
     "execution_count": 3,
     "metadata": {},
     "output_type": "execute_result"
    }
   ],
   "source": [
    "state_0 = balance(initial, [1, 2, 3, 4], [5, 6, 7, 8], 0); state_0"
   ]
  },
  {
   "cell_type": "markdown",
   "metadata": {},
   "source": [
    "We now use the known pure coins to refine our knowledge of the remaining coins. If this weighing (1,9,10 vs 2,3,11) is balanced, then we know 12 is the impure coin - we can then simply compare it to any other coin to figure out its weight."
   ]
  },
  {
   "cell_type": "code",
   "execution_count": 4,
   "metadata": {
    "collapsed": false
   },
   "outputs": [
    {
     "data": {
      "text/plain": [
       "{12: {-1, 1}}"
      ]
     },
     "execution_count": 4,
     "metadata": {},
     "output_type": "execute_result"
    }
   ],
   "source": [
    "balance(state_0, [1, 9, 10], [2, 3, 11], 0)"
   ]
  },
  {
   "cell_type": "markdown",
   "metadata": {},
   "source": [
    "If on the other hand the weighing is imbalanced, there are two possibilities. In both cases, we have three remaining possibilities, which can be differentiated by the three possible results of weighing the two with the same remaining option."
   ]
  },
  {
   "cell_type": "code",
   "execution_count": 5,
   "metadata": {
    "collapsed": false
   },
   "outputs": [
    {
     "data": {
      "text/plain": [
       "{9: {-1}, 10: {-1}, 11: {1}}"
      ]
     },
     "execution_count": 5,
     "metadata": {},
     "output_type": "execute_result"
    }
   ],
   "source": [
    "balance(state_0, [1, 9, 10], [2, 3, 11], 1)"
   ]
  },
  {
   "cell_type": "code",
   "execution_count": 6,
   "metadata": {
    "collapsed": false
   },
   "outputs": [
    {
     "data": {
      "text/plain": [
       "{9: {1}, 10: {1}, 11: {-1}}"
      ]
     },
     "execution_count": 6,
     "metadata": {},
     "output_type": "execute_result"
    }
   ],
   "source": [
    "balance(state_0, [1, 9, 10], [2, 3, 11], -1)"
   ]
  },
  {
   "cell_type": "markdown",
   "metadata": {},
   "source": [
    "For the second case of the initial weighing, assume WLOG that the right side was heavier."
   ]
  },
  {
   "cell_type": "code",
   "execution_count": 7,
   "metadata": {
    "collapsed": false
   },
   "outputs": [
    {
     "data": {
      "text/plain": [
       "{1: {-1}, 2: {-1}, 3: {-1}, 4: {-1}, 5: {1}, 6: {1}, 7: {1}, 8: {1}}"
      ]
     },
     "execution_count": 7,
     "metadata": {},
     "output_type": "execute_result"
    }
   ],
   "source": [
    "state_1 = balance(initial, [1, 2, 3, 4], [5, 6, 7, 8], 1); state_1"
   ]
  },
  {
   "cell_type": "markdown",
   "metadata": {},
   "source": [
    "We now balance 2 possibly lighter (1,2) and 2 possibly heavier coins (5,6) with one possibly heavier coin (7) and 3 known pure coins (9,10,11). There are again three possible outcomes:"
   ]
  },
  {
   "cell_type": "code",
   "execution_count": 8,
   "metadata": {
    "collapsed": false
   },
   "outputs": [
    {
     "data": {
      "text/plain": [
       "{3: {-1}, 4: {-1}, 8: {1}}"
      ]
     },
     "execution_count": 8,
     "metadata": {},
     "output_type": "execute_result"
    }
   ],
   "source": [
    "balance(state_1, [1, 2, 5, 6], [7, 9, 10, 11], 0)"
   ]
  },
  {
   "cell_type": "code",
   "execution_count": 9,
   "metadata": {
    "collapsed": false
   },
   "outputs": [
    {
     "data": {
      "text/plain": [
       "{1: {-1}, 2: {-1}, 7: {1}}"
      ]
     },
     "execution_count": 9,
     "metadata": {},
     "output_type": "execute_result"
    }
   ],
   "source": [
    "balance(state_1, [1, 2, 5, 6], [7, 9, 10, 11], 1)"
   ]
  },
  {
   "cell_type": "code",
   "execution_count": 10,
   "metadata": {
    "collapsed": false
   },
   "outputs": [
    {
     "data": {
      "text/plain": [
       "{5: {1}, 6: {1}}"
      ]
     },
     "execution_count": 10,
     "metadata": {},
     "output_type": "execute_result"
    }
   ],
   "source": [
    "balance(state_1, [1, 2, 5, 6], [7, 9, 10, 11], -1)"
   ]
  },
  {
   "cell_type": "markdown",
   "metadata": {},
   "source": [
    "In each of these cases, there are at most three remaining possibilites. In the first two cases, we balance the two with the same possibility to differentiate (3,4 for the first, or 1,2 for the second). In the last case, we simply compare 5 vs 6 to determine the heavier coin."
   ]
  }
 ],
 "metadata": {
  "kernelspec": {
   "display_name": "Python 3",
   "language": "python",
   "name": "python3"
  },
  "language_info": {
   "codemirror_mode": {
    "name": "ipython",
    "version": 3
   },
   "file_extension": ".py",
   "mimetype": "text/x-python",
   "name": "python",
   "nbconvert_exporter": "python",
   "pygments_lexer": "ipython3",
   "version": "3.6.0"
  }
 },
 "nbformat": 4,
 "nbformat_minor": 2
}
